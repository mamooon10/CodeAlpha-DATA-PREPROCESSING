{
 "cells": [
  {
   "cell_type": "code",
   "execution_count": 1,
   "id": "6d9e0dee-de99-436f-8b5a-613e2d48e572",
   "metadata": {},
   "outputs": [
    {
     "name": "stdout",
     "output_type": "stream",
     "text": [
      "Data preprocessing complete!\n"
     ]
    }
   ],
   "source": [
    "import pandas as pd\n",
    "from sklearn.model_selection import train_test_split\n",
    "from sklearn.preprocessing import StandardScaler\n",
    "\n",
    "# Load the dataset\n",
    "df = pd.read_csv(\"sample_dataset.csv\")\n",
    "\n",
    "# Handle missing values\n",
    "df['Age'].fillna(df['Age'].mean(), inplace=True)\n",
    "df['Salary'].fillna(df['Salary'].median(), inplace=True)\n",
    "df['Experience'].fillna(df['Experience'].median(), inplace=True)\n",
    "\n",
    "# Convert categorical variable into dummy/indicator variables\n",
    "df = pd.get_dummies(df, columns=['Department'], drop_first=True)\n",
    "\n",
    "# Normalize or scale features\n",
    "scaler = StandardScaler()\n",
    "scaled_features = scaler.fit_transform(df[['Age', 'Salary', 'Experience']])\n",
    "scaled_df = pd.DataFrame(scaled_features, columns=['Age', 'Salary', 'Experience'])\n",
    "\n",
    "# Add scaled features back to the DataFrame\n",
    "df[['Age', 'Salary', 'Experience']] = scaled_df\n",
    "\n",
    "# Split the data into training and testing sets\n",
    "X = df.drop(columns=['Salary'])  # Example: Predict Salary\n",
    "y = df['Salary']\n",
    "X_train, X_test, y_train, y_test = train_test_split(X, y, test_size=0.2, random_state=42)\n",
    "\n",
    "print(\"Data preprocessing complete!\")"
   ]
  },
  {
   "cell_type": "code",
   "execution_count": null,
   "id": "c7d110cb-565b-48e4-9e71-96162493c628",
   "metadata": {},
   "outputs": [],
   "source": []
  }
 ],
 "metadata": {
  "kernelspec": {
   "display_name": "Python 3 (ipykernel)",
   "language": "python",
   "name": "python3"
  },
  "language_info": {
   "codemirror_mode": {
    "name": "ipython",
    "version": 3
   },
   "file_extension": ".py",
   "mimetype": "text/x-python",
   "name": "python",
   "nbconvert_exporter": "python",
   "pygments_lexer": "ipython3",
   "version": "3.11.7"
  }
 },
 "nbformat": 4,
 "nbformat_minor": 5
}
